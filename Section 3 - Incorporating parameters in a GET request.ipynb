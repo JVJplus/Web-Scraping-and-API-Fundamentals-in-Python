{
 "cells": [
  {
   "cell_type": "markdown",
   "metadata": {},
   "source": [
    "# Pulling data from public APIs (without registration) - GET request"
   ]
  },
  {
   "cell_type": "code",
   "execution_count": 15,
   "metadata": {},
   "outputs": [],
   "source": [
    "# loading the packages\n",
    "# requests provides us with the capabilities of sending an HTTP request to a server\n",
    "import requests"
   ]
  },
  {
   "cell_type": "markdown",
   "metadata": {},
   "source": [
    "## Extracting data on currency exchange rates"
   ]
  },
  {
   "cell_type": "code",
   "execution_count": 16,
   "metadata": {},
   "outputs": [],
   "source": [
    "# We will use an API containing currency exchange rates as published by the European Central Bank\n",
    "# Documentation at https://exchangeratesapi.io"
   ]
  },
  {
   "cell_type": "markdown",
   "metadata": {},
   "source": [
    "### Sending a GET request"
   ]
  },
  {
   "cell_type": "code",
   "execution_count": 17,
   "metadata": {},
   "outputs": [],
   "source": [
    "# Define the base URL\n",
    "# Base URL: the part of the URL common to all requests, not containing the parameters\n",
    "base_url = \"https://api.exchangeratesapi.io/latest\""
   ]
  },
  {
   "cell_type": "code",
   "execution_count": 18,
   "metadata": {},
   "outputs": [],
   "source": [
    "# We can make a GET request to this API endpoint with requests.get\n",
    "response = requests.get(base_url)\n",
    "\n",
    "# This method returns the response from the server\n",
    "# We store this response in a variable for future processing"
   ]
  },
  {
   "cell_type": "markdown",
   "metadata": {},
   "source": [
    "### Investigating the response"
   ]
  },
  {
   "cell_type": "code",
   "execution_count": 19,
   "metadata": {},
   "outputs": [
    {
     "data": {
      "text/plain": [
       "True"
      ]
     },
     "execution_count": 19,
     "metadata": {},
     "output_type": "execute_result"
    }
   ],
   "source": [
    "# Checking if the request went through ok\n",
    "response.ok"
   ]
  },
  {
   "cell_type": "code",
   "execution_count": 20,
   "metadata": {},
   "outputs": [
    {
     "data": {
      "text/plain": [
       "200"
      ]
     },
     "execution_count": 20,
     "metadata": {},
     "output_type": "execute_result"
    }
   ],
   "source": [
    "# Checking the status code of the response\n",
    "response.status_code"
   ]
  },
  {
   "cell_type": "code",
   "execution_count": 21,
   "metadata": {},
   "outputs": [
    {
     "data": {
      "text/plain": [
       "'{\"rates\":{\"CAD\":1.5265,\"HKD\":8.4259,\"ISK\":155.9,\"PHP\":54.939,\"DKK\":7.4657,\"HUF\":354.76,\"CZK\":26.909,\"AUD\":1.7444,\"RON\":4.833,\"SEK\":10.9455,\"IDR\":17243.21,\"INR\":82.9275,\"BRL\":5.5956,\"RUB\":80.69,\"HRK\":7.6175,\"JPY\":118.33,\"THB\":35.665,\"CHF\":1.0558,\"SGD\":1.5479,\"PLN\":4.5586,\"BGN\":1.9558,\"TRY\":7.3233,\"CNY\":7.6709,\"NOK\":11.2143,\"NZD\":1.8128,\"ZAR\":19.6383,\"USD\":1.0867,\"MXN\":26.0321,\"ILS\":3.8919,\"GBP\":0.87565,\"KRW\":1322.49,\"MYR\":4.7136},\"base\":\"EUR\",\"date\":\"2020-04-09\"}'"
      ]
     },
     "execution_count": 21,
     "metadata": {},
     "output_type": "execute_result"
    }
   ],
   "source": [
    "# Inspecting the content body of the response (as a regular 'string')\n",
    "response.text"
   ]
  },
  {
   "cell_type": "code",
   "execution_count": 22,
   "metadata": {},
   "outputs": [
    {
     "data": {
      "text/plain": [
       "b'{\"rates\":{\"CAD\":1.5265,\"HKD\":8.4259,\"ISK\":155.9,\"PHP\":54.939,\"DKK\":7.4657,\"HUF\":354.76,\"CZK\":26.909,\"AUD\":1.7444,\"RON\":4.833,\"SEK\":10.9455,\"IDR\":17243.21,\"INR\":82.9275,\"BRL\":5.5956,\"RUB\":80.69,\"HRK\":7.6175,\"JPY\":118.33,\"THB\":35.665,\"CHF\":1.0558,\"SGD\":1.5479,\"PLN\":4.5586,\"BGN\":1.9558,\"TRY\":7.3233,\"CNY\":7.6709,\"NOK\":11.2143,\"NZD\":1.8128,\"ZAR\":19.6383,\"USD\":1.0867,\"MXN\":26.0321,\"ILS\":3.8919,\"GBP\":0.87565,\"KRW\":1322.49,\"MYR\":4.7136},\"base\":\"EUR\",\"date\":\"2020-04-09\"}'"
      ]
     },
     "execution_count": 22,
     "metadata": {},
     "output_type": "execute_result"
    }
   ],
   "source": [
    "# Inspecting the content of the response (in 'bytes' format)\n",
    "response.content"
   ]
  },
  {
   "cell_type": "code",
   "execution_count": 23,
   "metadata": {},
   "outputs": [],
   "source": [
    "# The data is presented in JSON format"
   ]
  },
  {
   "cell_type": "markdown",
   "metadata": {},
   "source": [
    "### Handling the JSON"
   ]
  },
  {
   "cell_type": "code",
   "execution_count": 24,
   "metadata": {},
   "outputs": [
    {
     "data": {
      "text/plain": [
       "{'rates': {'CAD': 1.5265,\n",
       "  'HKD': 8.4259,\n",
       "  'ISK': 155.9,\n",
       "  'PHP': 54.939,\n",
       "  'DKK': 7.4657,\n",
       "  'HUF': 354.76,\n",
       "  'CZK': 26.909,\n",
       "  'AUD': 1.7444,\n",
       "  'RON': 4.833,\n",
       "  'SEK': 10.9455,\n",
       "  'IDR': 17243.21,\n",
       "  'INR': 82.9275,\n",
       "  'BRL': 5.5956,\n",
       "  'RUB': 80.69,\n",
       "  'HRK': 7.6175,\n",
       "  'JPY': 118.33,\n",
       "  'THB': 35.665,\n",
       "  'CHF': 1.0558,\n",
       "  'SGD': 1.5479,\n",
       "  'PLN': 4.5586,\n",
       "  'BGN': 1.9558,\n",
       "  'TRY': 7.3233,\n",
       "  'CNY': 7.6709,\n",
       "  'NOK': 11.2143,\n",
       "  'NZD': 1.8128,\n",
       "  'ZAR': 19.6383,\n",
       "  'USD': 1.0867,\n",
       "  'MXN': 26.0321,\n",
       "  'ILS': 3.8919,\n",
       "  'GBP': 0.87565,\n",
       "  'KRW': 1322.49,\n",
       "  'MYR': 4.7136},\n",
       " 'base': 'EUR',\n",
       " 'date': '2020-04-09'}"
      ]
     },
     "execution_count": 24,
     "metadata": {},
     "output_type": "execute_result"
    }
   ],
   "source": [
    "# Requests has in-build method to directly convert the response to JSON format\n",
    "response.json()"
   ]
  },
  {
   "cell_type": "code",
   "execution_count": 25,
   "metadata": {},
   "outputs": [
    {
     "data": {
      "text/plain": [
       "dict"
      ]
     },
     "execution_count": 25,
     "metadata": {},
     "output_type": "execute_result"
    }
   ],
   "source": [
    "# In Python, this JSON is stored as a dictionary\n",
    "type(response.json())"
   ]
  },
  {
   "cell_type": "code",
   "execution_count": 26,
   "metadata": {},
   "outputs": [],
   "source": [
    "# A useful library for JSON manipulation and pretty print\n",
    "import json\n",
    "\n",
    "# It has two main methods:\n",
    "# .loads(), which creates a Python dictionary from a JSON format string (just as response.json() does)\n",
    "# .dumps(), which creates a JSON format string out of a Python dictionary "
   ]
  },
  {
   "cell_type": "code",
   "execution_count": 27,
   "metadata": {},
   "outputs": [
    {
     "data": {
      "text/plain": [
       "'{\\n    \"rates\": {\\n        \"CAD\": 1.5265,\\n        \"HKD\": 8.4259,\\n        \"ISK\": 155.9,\\n        \"PHP\": 54.939,\\n        \"DKK\": 7.4657,\\n        \"HUF\": 354.76,\\n        \"CZK\": 26.909,\\n        \"AUD\": 1.7444,\\n        \"RON\": 4.833,\\n        \"SEK\": 10.9455,\\n        \"IDR\": 17243.21,\\n        \"INR\": 82.9275,\\n        \"BRL\": 5.5956,\\n        \"RUB\": 80.69,\\n        \"HRK\": 7.6175,\\n        \"JPY\": 118.33,\\n        \"THB\": 35.665,\\n        \"CHF\": 1.0558,\\n        \"SGD\": 1.5479,\\n        \"PLN\": 4.5586,\\n        \"BGN\": 1.9558,\\n        \"TRY\": 7.3233,\\n        \"CNY\": 7.6709,\\n        \"NOK\": 11.2143,\\n        \"NZD\": 1.8128,\\n        \"ZAR\": 19.6383,\\n        \"USD\": 1.0867,\\n        \"MXN\": 26.0321,\\n        \"ILS\": 3.8919,\\n        \"GBP\": 0.87565,\\n        \"KRW\": 1322.49,\\n        \"MYR\": 4.7136\\n    },\\n    \"base\": \"EUR\",\\n    \"date\": \"2020-04-09\"\\n}'"
      ]
     },
     "execution_count": 27,
     "metadata": {},
     "output_type": "execute_result"
    }
   ],
   "source": [
    "# .dumps() has options to make the string 'prettier', more readable\n",
    "# We can choose the number of spaces to be used as indentation\n",
    "json.dumps(response.json(), indent=4)"
   ]
  },
  {
   "cell_type": "code",
   "execution_count": 28,
   "metadata": {},
   "outputs": [
    {
     "name": "stdout",
     "output_type": "stream",
     "text": [
      "{\n",
      "    \"rates\": {\n",
      "        \"CAD\": 1.5265,\n",
      "        \"HKD\": 8.4259,\n",
      "        \"ISK\": 155.9,\n",
      "        \"PHP\": 54.939,\n",
      "        \"DKK\": 7.4657,\n",
      "        \"HUF\": 354.76,\n",
      "        \"CZK\": 26.909,\n",
      "        \"AUD\": 1.7444,\n",
      "        \"RON\": 4.833,\n",
      "        \"SEK\": 10.9455,\n",
      "        \"IDR\": 17243.21,\n",
      "        \"INR\": 82.9275,\n",
      "        \"BRL\": 5.5956,\n",
      "        \"RUB\": 80.69,\n",
      "        \"HRK\": 7.6175,\n",
      "        \"JPY\": 118.33,\n",
      "        \"THB\": 35.665,\n",
      "        \"CHF\": 1.0558,\n",
      "        \"SGD\": 1.5479,\n",
      "        \"PLN\": 4.5586,\n",
      "        \"BGN\": 1.9558,\n",
      "        \"TRY\": 7.3233,\n",
      "        \"CNY\": 7.6709,\n",
      "        \"NOK\": 11.2143,\n",
      "        \"NZD\": 1.8128,\n",
      "        \"ZAR\": 19.6383,\n",
      "        \"USD\": 1.0867,\n",
      "        \"MXN\": 26.0321,\n",
      "        \"ILS\": 3.8919,\n",
      "        \"GBP\": 0.87565,\n",
      "        \"KRW\": 1322.49,\n",
      "        \"MYR\": 4.7136\n",
      "    },\n",
      "    \"base\": \"EUR\",\n",
      "    \"date\": \"2020-04-09\"\n",
      "}\n"
     ]
    }
   ],
   "source": [
    "# In order to visualize these changes, we need to print the string\n",
    "print(json.dumps(response.json(), indent=4))"
   ]
  },
  {
   "cell_type": "code",
   "execution_count": 29,
   "metadata": {},
   "outputs": [
    {
     "data": {
      "text/plain": [
       "dict_keys(['rates', 'base', 'date'])"
      ]
     },
     "execution_count": 29,
     "metadata": {},
     "output_type": "execute_result"
    }
   ],
   "source": [
    "# It contains 3 keys; the value for the 'rates' key is another dictionary\n",
    "response.json().keys()"
   ]
  },
  {
   "cell_type": "markdown",
   "metadata": {},
   "source": [
    "### Incorporating parameters in the GET request"
   ]
  },
  {
   "cell_type": "code",
   "execution_count": 30,
   "metadata": {},
   "outputs": [
    {
     "data": {
      "text/plain": [
       "'https://api.exchangeratesapi.io/latest?symbols=USD,GBP'"
      ]
     },
     "execution_count": 30,
     "metadata": {},
     "output_type": "execute_result"
    }
   ],
   "source": [
    "# Request parameters are added to the URL after a question mark '?'\n",
    "# In this case, we request for the exchange rates of the US Dollar (USD) and Pound Sterling (GBP) only\n",
    "param_url = base_url + \"?symbols=USD,GBP\"\n",
    "param_url"
   ]
  },
  {
   "cell_type": "code",
   "execution_count": 31,
   "metadata": {},
   "outputs": [
    {
     "data": {
      "text/plain": [
       "200"
      ]
     },
     "execution_count": 31,
     "metadata": {},
     "output_type": "execute_result"
    }
   ],
   "source": [
    "# Making a request to the server with the new URL, containing the parameters\n",
    "response = requests.get(param_url)\n",
    "response.status_code"
   ]
  },
  {
   "cell_type": "code",
   "execution_count": 32,
   "metadata": {},
   "outputs": [
    {
     "data": {
      "text/plain": [
       "{'rates': {'USD': 1.0867, 'GBP': 0.87565}, 'base': 'EUR', 'date': '2020-04-09'}"
      ]
     },
     "execution_count": 32,
     "metadata": {},
     "output_type": "execute_result"
    }
   ],
   "source": [
    "# Saving the response data\n",
    "data = response.json()\n",
    "data"
   ]
  },
  {
   "cell_type": "code",
   "execution_count": 33,
   "metadata": {},
   "outputs": [
    {
     "data": {
      "text/plain": [
       "'EUR'"
      ]
     },
     "execution_count": 33,
     "metadata": {},
     "output_type": "execute_result"
    }
   ],
   "source": [
    "# 'data' is a dictionary\n",
    "data['base']"
   ]
  },
  {
   "cell_type": "code",
   "execution_count": 34,
   "metadata": {},
   "outputs": [
    {
     "data": {
      "text/plain": [
       "'2020-04-09'"
      ]
     },
     "execution_count": 34,
     "metadata": {},
     "output_type": "execute_result"
    }
   ],
   "source": [
    "data['date']"
   ]
  },
  {
   "cell_type": "code",
   "execution_count": 35,
   "metadata": {},
   "outputs": [
    {
     "data": {
      "text/plain": [
       "{'USD': 1.0867, 'GBP': 0.87565}"
      ]
     },
     "execution_count": 35,
     "metadata": {},
     "output_type": "execute_result"
    }
   ],
   "source": [
    "data['rates']"
   ]
  },
  {
   "cell_type": "code",
   "execution_count": 36,
   "metadata": {},
   "outputs": [],
   "source": [
    "# As per the documentation of this API, we can change the base with the parameter 'base'\n",
    "param_url = base_url + \"?symbols=GBP&base=USD\""
   ]
  },
  {
   "cell_type": "code",
   "execution_count": 39,
   "metadata": {},
   "outputs": [
    {
     "data": {
      "text/plain": [
       "{'rates': {'GBP': 0.805788166}, 'base': 'USD', 'date': '2020-04-09'}"
      ]
     },
     "execution_count": 39,
     "metadata": {},
     "output_type": "execute_result"
    }
   ],
   "source": [
    "# Sending a request and saving the response JSON, all at once\n",
    "data = requests.get(param_url).json()\n",
    "data"
   ]
  },
  {
   "cell_type": "code",
   "execution_count": 38,
   "metadata": {},
   "outputs": [
    {
     "data": {
      "text/plain": [
       "0.805788166"
      ]
     },
     "execution_count": 38,
     "metadata": {},
     "output_type": "execute_result"
    }
   ],
   "source": [
    "usd_to_gbp = data['rates']['GBP']\n",
    "usd_to_gbp"
   ]
  }
 ],
 "metadata": {
  "kernelspec": {
   "display_name": "Python 3",
   "language": "python",
   "name": "python3"
  },
  "language_info": {
   "codemirror_mode": {
    "name": "ipython",
    "version": 3
   },
   "file_extension": ".py",
   "mimetype": "text/x-python",
   "name": "python",
   "nbconvert_exporter": "python",
   "pygments_lexer": "ipython3",
   "version": "3.7.6"
  }
 },
 "nbformat": 4,
 "nbformat_minor": 2
}
